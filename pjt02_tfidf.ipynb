{
 "cells": [
  {
   "cell_type": "code",
   "execution_count": 1,
   "metadata": {},
   "outputs": [],
   "source": [
    "from sklearn.feature_extraction.text import TfidfVectorizer\n",
    "from sklearn.metrics.pairwise import cosine_similarity"
   ]
  },
  {
   "cell_type": "code",
   "execution_count": 2,
   "metadata": {},
   "outputs": [],
   "source": [
    "text1 = '사용자가 처음 접속 하는 화면으로, 6자리 숫자로 구성된 사용자 직번을 입력하는 화면이며 입력 된 직번을 저장해놓고 추후 검색 쿼리와 함께 백엔드 서버로 전송한다.'\n",
    "text2 = '사용자 검색어를 입력하는 화면으로, 검색창에 입력된 검색 쿼리를 사용자 직번과 함께 결합하여 백엔드 서버 중 문서 인덱스에 쿼리를 전송한다. '"
   ]
  },
  {
   "cell_type": "code",
   "execution_count": 3,
   "metadata": {},
   "outputs": [],
   "source": [
    "sentences = (text1, text2)\n",
    "tfidf_vectorizer = TfidfVectorizer()"
   ]
  },
  {
   "cell_type": "code",
   "execution_count": 22,
   "metadata": {},
   "outputs": [],
   "source": [
    "# 문장 벡터화 하기(사전 만들기)\n",
    "tfidfv = tfidf_vectorizer.fit_transform(sentences).toarray()"
   ]
  },
  {
   "cell_type": "code",
   "execution_count": 24,
   "metadata": {},
   "outputs": [
    {
     "name": "stdout",
     "output_type": "stream",
     "text": [
      "[[0.22062798 0.15697862 0.         0.         0.         0.22062798\n",
      "  0.         0.15697862 0.15697862 0.22062798 0.         0.22062798\n",
      "  0.22062798 0.         0.22062798 0.         0.15697862 0.22062798\n",
      "  0.15697862 0.22062798 0.         0.44125596 0.22062798 0.22062798\n",
      "  0.         0.22062798 0.22062798 0.15697862 0.15697862 0.22062798]\n",
      " [0.         0.17225005 0.24209144 0.24209144 0.24209144 0.\n",
      "  0.24209144 0.17225005 0.34450011 0.         0.24209144 0.\n",
      "  0.         0.24209144 0.         0.24209144 0.17225005 0.\n",
      "  0.17225005 0.         0.24209144 0.         0.         0.\n",
      "  0.48418288 0.         0.         0.17225005 0.17225005 0.        ]]\n"
     ]
    },
    {
     "ename": "",
     "evalue": "",
     "output_type": "error",
     "traceback": [
      "\u001b[1;31mThe Kernel crashed while executing code in the the current cell or a previous cell. Please review the code in the cell(s) to identify a possible cause of the failure. Click <a href='https://aka.ms/vscodeJupyterKernelCrash'>here</a> for more info. View Jupyter <a href='command:jupyter.viewOutput'>log</a> for further details."
     ]
    }
   ],
   "source": [
    "print(tfidfv)\n"
   ]
  },
  {
   "cell_type": "code",
   "execution_count": 10,
   "metadata": {},
   "outputs": [],
   "source": [
    "tfidfv = TfidfVectorizer().fit(sentences)"
   ]
  },
  {
   "cell_type": "code",
   "execution_count": 16,
   "metadata": {},
   "outputs": [
    {
     "name": "stdout",
     "output_type": "stream",
     "text": [
      "{'사용자가': 9, '처음': 22, '접속': 19, '하는': 26, '화면으로': 28, '6자리': 0, '숫자로': 12, '구성된': 5, '사용자': 8, '직번을': 21, '입력하는': 16, '화면이며': 29, '입력': 14, '저장해놓고': 17, '추후': 23, '검색': 1, '쿼리와': 25, '함께': 27, '백엔드': 7, '서버로': 11, '전송한다': 18, '검색어를': 2, '검색창에': 3, '입력된': 15, '쿼리를': 24, '직번과': 20, '결합하여': 4, '서버': 10, '문서': 6, '인덱스에': 13}\n"
     ]
    }
   ],
   "source": [
    "print(tfidfv.vocabulary_)"
   ]
  },
  {
   "cell_type": "code",
   "execution_count": 9,
   "metadata": {},
   "outputs": [
    {
     "name": "stdout",
     "output_type": "stream",
     "text": [
      "  (0, 18)\t0.15697862369537952\n",
      "  (0, 11)\t0.2206279783226974\n",
      "  (0, 7)\t0.15697862369537952\n",
      "  (0, 27)\t0.15697862369537952\n",
      "  (0, 25)\t0.2206279783226974\n",
      "  (0, 1)\t0.15697862369537952\n",
      "  (0, 23)\t0.2206279783226974\n",
      "  (0, 17)\t0.2206279783226974\n",
      "  (0, 14)\t0.2206279783226974\n",
      "  (0, 29)\t0.2206279783226974\n",
      "  (0, 16)\t0.15697862369537952\n",
      "  (0, 21)\t0.4412559566453948\n",
      "  (0, 8)\t0.15697862369537952\n",
      "  (0, 5)\t0.2206279783226974\n",
      "  (0, 12)\t0.2206279783226974\n",
      "  (0, 0)\t0.2206279783226974\n",
      "  (0, 28)\t0.15697862369537952\n",
      "  (0, 26)\t0.2206279783226974\n",
      "  (0, 19)\t0.2206279783226974\n",
      "  (0, 22)\t0.2206279783226974\n",
      "  (0, 9)\t0.2206279783226974\n",
      "  (1, 13)\t0.24209144084660555\n",
      "  (1, 6)\t0.24209144084660555\n",
      "  (1, 10)\t0.24209144084660555\n",
      "  (1, 4)\t0.24209144084660555\n",
      "  (1, 20)\t0.24209144084660555\n",
      "  (1, 24)\t0.4841828816932111\n",
      "  (1, 15)\t0.24209144084660555\n",
      "  (1, 3)\t0.24209144084660555\n",
      "  (1, 2)\t0.24209144084660555\n",
      "  (1, 18)\t0.17225005405681992\n",
      "  (1, 7)\t0.17225005405681992\n",
      "  (1, 27)\t0.17225005405681992\n",
      "  (1, 1)\t0.17225005405681992\n",
      "  (1, 16)\t0.17225005405681992\n",
      "  (1, 8)\t0.34450010811363985\n",
      "  (1, 28)\t0.17225005405681992\n"
     ]
    }
   ],
   "source": [
    "print(tfidf_matrix)"
   ]
  },
  {
   "cell_type": "code",
   "execution_count": 8,
   "metadata": {},
   "outputs": [
    {
     "data": {
      "text/plain": [
       "<1x30 sparse matrix of type '<class 'numpy.float64'>'\n",
       "\twith 21 stored elements in Compressed Sparse Row format>"
      ]
     },
     "execution_count": 8,
     "metadata": {},
     "output_type": "execute_result"
    }
   ],
   "source": [
    "tfidf_matrix[0:1]"
   ]
  },
  {
   "cell_type": "code",
   "execution_count": 6,
   "metadata": {},
   "outputs": [],
   "source": [
    "### 코사인 유사도 ###\n",
    "# 첫 번째와 두 번째 문장 비교\n",
    "cos_similar = cosine_similarity(tfidf_matrix[0:1], tfidf_matrix[1:2])\n"
   ]
  },
  {
   "cell_type": "code",
   "execution_count": 7,
   "metadata": {},
   "outputs": [
    {
     "data": {
      "text/plain": [
       "array([[0.21631661]])"
      ]
     },
     "execution_count": 7,
     "metadata": {},
     "output_type": "execute_result"
    }
   ],
   "source": [
    "cos_similar"
   ]
  }
 ],
 "metadata": {
  "kernelspec": {
   "display_name": "Python 3.9.1 64-bit",
   "language": "python",
   "name": "python3"
  },
  "language_info": {
   "codemirror_mode": {
    "name": "ipython",
    "version": 3
   },
   "file_extension": ".py",
   "mimetype": "text/x-python",
   "name": "python",
   "nbconvert_exporter": "python",
   "pygments_lexer": "ipython3",
   "version": "3.9.1"
  },
  "orig_nbformat": 4,
  "vscode": {
   "interpreter": {
    "hash": "3111aa96cc26300dccd815696639f8fffbbbc9544087533a094707fe283247ba"
   }
  }
 },
 "nbformat": 4,
 "nbformat_minor": 2
}
