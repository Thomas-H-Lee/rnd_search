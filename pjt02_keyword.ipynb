{
 "cells": [
  {
   "cell_type": "code",
   "execution_count": 12,
   "metadata": {},
   "outputs": [],
   "source": [
    "import textract\n",
    "import docx2txt\n",
    "import tika\n",
    "tika.initVM()\n",
    "from tika import parser\n",
    "from pdfminer.high_level import extract_text\n",
    "\n",
    "import pandas as pd\n",
    "from elastic_enterprise_search import AppSearch\n",
    "import pjt02_lda_gensim\n",
    "app_search = AppSearch(\n",
    "    \"203.245.157.104:3002/api/as/v1\",\n",
    "    http_auth=\"private-fcgi6zgirnwru77pun4g9bu1\",\n",
    "    use_https=False\n",
    ")"
   ]
  },
  {
   "cell_type": "code",
   "execution_count": 2,
   "metadata": {},
   "outputs": [],
   "source": [
    "# (1) 엑셀에서 대상 연구과제 리스트 가져 가져오기\n",
    "rs_file = r'D:\\Workspace\\5. 기술기획\\17. DT\\02. 기술관리시스템 DB활용성\\메타데이터_v5_220630.xlsx'  \n",
    "pat_file = r'D:\\Workspace\\5. 기술기획\\17. DT\\02. 기술관리시스템 DB활용성\\특허(593건).xlsx' \n",
    "\n",
    "df_rs = pd.read_excel(rs_file, index_col=False)    \n",
    "# with open(pat_file, mode=\"r\", encoding='utf-8') as file:\n",
    "df_pat = pd.read_excel(pat_file, index_col=False)\n",
    "\n",
    "n_docs_rs = len(df_rs.index)\n",
    "n_docs_pat = len(df_pat.index)"
   ]
  },
  {
   "cell_type": "code",
   "execution_count": 136,
   "metadata": {},
   "outputs": [
    {
     "name": "stderr",
     "output_type": "stream",
     "text": [
      "2022-07-28 18:41:11,219 : INFO : GET http://203.245.157.104:3002/api/as/v1/api/as/v1/api/as/v1/engines/poc-research-doc/documents/list?page[current]=2&page[size]=117 [status:200 request:0.796s]\n"
     ]
    }
   ],
   "source": [
    "## 기존 인덱스의 필드데이터로 부터 가공 후 필드 업데이트\n",
    "engine_name = \"poc-research-doc\"\n",
    "##\n",
    "# 조회\n",
    "# current_page값을 1,2로 변경하면서 읽기 필요\n",
    "current_doc = app_search.list_documents(engine_name=engine_name, current_page=2, page_size=117)\n",
    "n_docs = current_doc[\"meta\"][\"page\"][\"total_results\"]\n",
    "\n",
    "# idx_start = current_doc[\"results\"][0]['id']\n",
    "# idx_end = current_doc[\"results\"][n_docs-1]['id']"
   ]
  },
  {
   "cell_type": "code",
   "execution_count": 142,
   "metadata": {},
   "outputs": [
    {
     "name": "stderr",
     "output_type": "stream",
     "text": [
      "2022-07-28 18:42:08,446 : INFO : GET http://203.245.157.104:3002/api/as/v1/api/as/v1/api/as/v1/engines/poc-research-doc/documents [status:200 request:0.102s]\n"
     ]
    },
    {
     "name": "stdout",
     "output_type": "stream",
     "text": [
      "현재 대상 ID : 20200024\n"
     ]
    },
    {
     "name": "stderr",
     "output_type": "stream",
     "text": [
      "100%|██████████| 1/1 [00:00<00:00,  2.27it/s]\n",
      "2022-07-28 18:42:09,590 : INFO : PATCH http://203.245.157.104:3002/api/as/v1/api/as/v1/api/as/v1/engines/poc-research-doc/documents [status:200 request:0.168s]\n",
      "2022-07-28 18:42:09,713 : INFO : GET http://203.245.157.104:3002/api/as/v1/api/as/v1/api/as/v1/engines/poc-research-doc/documents [status:200 request:0.121s]\n"
     ]
    },
    {
     "name": "stdout",
     "output_type": "stream",
     "text": [
      "현재 인덱싱 No.:0, ID : 20200024\n",
      "현재 대상 ID : 20180098\n"
     ]
    },
    {
     "name": "stderr",
     "output_type": "stream",
     "text": [
      "100%|██████████| 1/1 [00:00<00:00,  7.59it/s]\n",
      "2022-07-28 18:42:09,990 : INFO : PATCH http://203.245.157.104:3002/api/as/v1/api/as/v1/api/as/v1/engines/poc-research-doc/documents [status:200 request:0.078s]\n",
      "2022-07-28 18:42:10,059 : INFO : GET http://203.245.157.104:3002/api/as/v1/api/as/v1/api/as/v1/engines/poc-research-doc/documents [status:200 request:0.067s]\n"
     ]
    },
    {
     "name": "stdout",
     "output_type": "stream",
     "text": [
      "현재 인덱싱 No.:1, ID : 20180098\n",
      "현재 대상 ID : 20200006\n"
     ]
    },
    {
     "name": "stderr",
     "output_type": "stream",
     "text": [
      "100%|██████████| 1/1 [00:00<00:00, 31.32it/s]\n",
      "2022-07-28 18:42:10,197 : INFO : PATCH http://203.245.157.104:3002/api/as/v1/api/as/v1/api/as/v1/engines/poc-research-doc/documents [status:200 request:0.062s]\n",
      "2022-07-28 18:42:10,281 : INFO : GET http://203.245.157.104:3002/api/as/v1/api/as/v1/api/as/v1/engines/poc-research-doc/documents [status:200 request:0.083s]\n"
     ]
    },
    {
     "name": "stdout",
     "output_type": "stream",
     "text": [
      "현재 인덱싱 No.:2, ID : 20200006\n",
      "현재 대상 ID : 20190031\n"
     ]
    },
    {
     "name": "stderr",
     "output_type": "stream",
     "text": [
      "100%|██████████| 1/1 [00:00<00:00, 14.10it/s]\n",
      "2022-07-28 18:42:10,450 : INFO : PATCH http://203.245.157.104:3002/api/as/v1/api/as/v1/api/as/v1/engines/poc-research-doc/documents [status:200 request:0.084s]\n",
      "2022-07-28 18:42:10,546 : INFO : GET http://203.245.157.104:3002/api/as/v1/api/as/v1/api/as/v1/engines/poc-research-doc/documents [status:200 request:0.092s]\n"
     ]
    },
    {
     "name": "stdout",
     "output_type": "stream",
     "text": [
      "현재 인덱싱 No.:3, ID : 20190031\n",
      "현재 대상 ID : 20210040\n"
     ]
    },
    {
     "name": "stderr",
     "output_type": "stream",
     "text": [
      "100%|██████████| 1/1 [00:00<00:00, 14.33it/s]\n",
      "2022-07-28 18:42:10,687 : INFO : PATCH http://203.245.157.104:3002/api/as/v1/api/as/v1/api/as/v1/engines/poc-research-doc/documents [status:200 request:0.058s]\n",
      "2022-07-28 18:42:10,798 : INFO : GET http://203.245.157.104:3002/api/as/v1/api/as/v1/api/as/v1/engines/poc-research-doc/documents [status:200 request:0.109s]\n"
     ]
    },
    {
     "name": "stdout",
     "output_type": "stream",
     "text": [
      "현재 인덱싱 No.:4, ID : 20210040\n",
      "현재 대상 ID : 20190032\n"
     ]
    },
    {
     "name": "stderr",
     "output_type": "stream",
     "text": [
      "100%|██████████| 1/1 [00:00<00:00,  7.76it/s]\n",
      "2022-07-28 18:42:11,037 : INFO : PATCH http://203.245.157.104:3002/api/as/v1/api/as/v1/api/as/v1/engines/poc-research-doc/documents [status:200 request:0.091s]\n",
      "2022-07-28 18:42:11,082 : INFO : GET http://203.245.157.104:3002/api/as/v1/api/as/v1/api/as/v1/engines/poc-research-doc/documents [status:200 request:0.044s]\n"
     ]
    },
    {
     "name": "stdout",
     "output_type": "stream",
     "text": [
      "현재 인덱싱 No.:5, ID : 20190032\n",
      "현재 대상 ID : 20210048\n"
     ]
    },
    {
     "name": "stderr",
     "output_type": "stream",
     "text": [
      "100%|██████████| 1/1 [00:00<00:00, 27.10it/s]\n",
      "2022-07-28 18:42:11,197 : INFO : PATCH http://203.245.157.104:3002/api/as/v1/api/as/v1/api/as/v1/engines/poc-research-doc/documents [status:200 request:0.061s]\n"
     ]
    },
    {
     "name": "stdout",
     "output_type": "stream",
     "text": [
      "현재 인덱싱 No.:6, ID : 20210048\n",
      "현재 대상 ID : 20200034\n"
     ]
    },
    {
     "name": "stderr",
     "output_type": "stream",
     "text": [
      "2022-07-28 18:42:11,293 : INFO : GET http://203.245.157.104:3002/api/as/v1/api/as/v1/api/as/v1/engines/poc-research-doc/documents [status:200 request:0.095s]\n",
      "100%|██████████| 1/1 [00:00<00:00, 14.81it/s]\n",
      "2022-07-28 18:42:11,466 : INFO : PATCH http://203.245.157.104:3002/api/as/v1/api/as/v1/api/as/v1/engines/poc-research-doc/documents [status:200 request:0.088s]\n",
      "2022-07-28 18:42:11,571 : INFO : GET http://203.245.157.104:3002/api/as/v1/api/as/v1/api/as/v1/engines/poc-research-doc/documents [status:200 request:0.103s]\n"
     ]
    },
    {
     "name": "stdout",
     "output_type": "stream",
     "text": [
      "현재 인덱싱 No.:7, ID : 20200034\n",
      "현재 대상 ID : 20190002\n"
     ]
    },
    {
     "name": "stderr",
     "output_type": "stream",
     "text": [
      "100%|██████████| 1/1 [00:00<00:00,  7.46it/s]\n",
      "2022-07-28 18:42:11,842 : INFO : PATCH http://203.245.157.104:3002/api/as/v1/api/as/v1/api/as/v1/engines/poc-research-doc/documents [status:200 request:0.118s]\n",
      "2022-07-28 18:42:11,894 : INFO : GET http://203.245.157.104:3002/api/as/v1/api/as/v1/api/as/v1/engines/poc-research-doc/documents [status:200 request:0.052s]\n"
     ]
    },
    {
     "name": "stdout",
     "output_type": "stream",
     "text": [
      "현재 인덱싱 No.:8, ID : 20190002\n",
      "현재 대상 ID : 20210013\n"
     ]
    },
    {
     "name": "stderr",
     "output_type": "stream",
     "text": [
      "100%|██████████| 1/1 [00:00<00:00, 50.09it/s]\n",
      "2022-07-28 18:42:11,977 : INFO : PATCH http://203.245.157.104:3002/api/as/v1/api/as/v1/api/as/v1/engines/poc-research-doc/documents [status:200 request:0.048s]\n"
     ]
    },
    {
     "name": "stdout",
     "output_type": "stream",
     "text": [
      "현재 인덱싱 No.:9, ID : 20210013\n",
      "현재 대상 ID : 20210015\n"
     ]
    },
    {
     "name": "stderr",
     "output_type": "stream",
     "text": [
      "2022-07-28 18:42:12,072 : INFO : GET http://203.245.157.104:3002/api/as/v1/api/as/v1/api/as/v1/engines/poc-research-doc/documents [status:200 request:0.092s]\n",
      "100%|██████████| 1/1 [00:00<00:00, 15.78it/s]\n",
      "2022-07-28 18:42:12,241 : INFO : PATCH http://203.245.157.104:3002/api/as/v1/api/as/v1/api/as/v1/engines/poc-research-doc/documents [status:200 request:0.093s]\n",
      "2022-07-28 18:42:12,346 : INFO : GET http://203.245.157.104:3002/api/as/v1/api/as/v1/api/as/v1/engines/poc-research-doc/documents [status:200 request:0.104s]\n"
     ]
    },
    {
     "name": "stdout",
     "output_type": "stream",
     "text": [
      "현재 인덱싱 No.:10, ID : 20210015\n",
      "현재 대상 ID : 20190029\n"
     ]
    },
    {
     "name": "stderr",
     "output_type": "stream",
     "text": [
      "100%|██████████| 1/1 [00:00<00:00, 25.90it/s]\n",
      "2022-07-28 18:42:12,473 : INFO : PATCH http://203.245.157.104:3002/api/as/v1/api/as/v1/api/as/v1/engines/poc-research-doc/documents [status:200 request:0.074s]\n",
      "2022-07-28 18:42:12,540 : INFO : GET http://203.245.157.104:3002/api/as/v1/api/as/v1/api/as/v1/engines/poc-research-doc/documents [status:200 request:0.065s]\n"
     ]
    },
    {
     "name": "stdout",
     "output_type": "stream",
     "text": [
      "현재 인덱싱 No.:11, ID : 20190029\n",
      "현재 대상 ID : 20200057\n"
     ]
    },
    {
     "name": "stderr",
     "output_type": "stream",
     "text": [
      "100%|██████████| 1/1 [00:00<00:00, 16.70it/s]\n",
      "2022-07-28 18:42:12,698 : INFO : PATCH http://203.245.157.104:3002/api/as/v1/api/as/v1/api/as/v1/engines/poc-research-doc/documents [status:200 request:0.084s]\n",
      "2022-07-28 18:42:12,796 : INFO : GET http://203.245.157.104:3002/api/as/v1/api/as/v1/api/as/v1/engines/poc-research-doc/documents [status:200 request:0.097s]\n"
     ]
    },
    {
     "name": "stdout",
     "output_type": "stream",
     "text": [
      "현재 인덱싱 No.:12, ID : 20200057\n",
      "현재 대상 ID : 20210022\n"
     ]
    },
    {
     "name": "stderr",
     "output_type": "stream",
     "text": [
      "100%|██████████| 1/1 [00:00<00:00,  9.43it/s]\n",
      "2022-07-28 18:42:13,007 : INFO : PATCH http://203.245.157.104:3002/api/as/v1/api/as/v1/api/as/v1/engines/poc-research-doc/documents [status:200 request:0.082s]\n",
      "2022-07-28 18:42:13,140 : INFO : GET http://203.245.157.104:3002/api/as/v1/api/as/v1/api/as/v1/engines/poc-research-doc/documents [status:200 request:0.130s]\n"
     ]
    },
    {
     "name": "stdout",
     "output_type": "stream",
     "text": [
      "현재 인덱싱 No.:13, ID : 20210022\n",
      "현재 대상 ID : 20180094\n"
     ]
    },
    {
     "name": "stderr",
     "output_type": "stream",
     "text": [
      "100%|██████████| 1/1 [00:00<00:00,  7.54it/s]\n",
      "2022-07-28 18:42:13,378 : INFO : PATCH http://203.245.157.104:3002/api/as/v1/api/as/v1/api/as/v1/engines/poc-research-doc/documents [status:200 request:0.088s]\n",
      "2022-07-28 18:42:13,507 : INFO : GET http://203.245.157.104:3002/api/as/v1/api/as/v1/api/as/v1/engines/poc-research-doc/documents [status:200 request:0.126s]\n"
     ]
    },
    {
     "name": "stdout",
     "output_type": "stream",
     "text": [
      "현재 인덱싱 No.:14, ID : 20180094\n",
      "현재 대상 ID : 20200059\n"
     ]
    },
    {
     "name": "stderr",
     "output_type": "stream",
     "text": [
      "100%|██████████| 1/1 [00:00<00:00, 14.32it/s]\n",
      "2022-07-28 18:42:13,713 : INFO : PATCH http://203.245.157.104:3002/api/as/v1/api/as/v1/api/as/v1/engines/poc-research-doc/documents [status:200 request:0.120s]\n",
      "2022-07-28 18:42:13,781 : INFO : GET http://203.245.157.104:3002/api/as/v1/api/as/v1/api/as/v1/engines/poc-research-doc/documents [status:200 request:0.066s]\n"
     ]
    },
    {
     "name": "stdout",
     "output_type": "stream",
     "text": [
      "현재 인덱싱 No.:15, ID : 20200059\n",
      "현재 대상 ID : 20200054\n"
     ]
    },
    {
     "name": "stderr",
     "output_type": "stream",
     "text": [
      "100%|██████████| 1/1 [00:00<00:00, 14.89it/s]\n",
      "2022-07-28 18:42:13,952 : INFO : PATCH http://203.245.157.104:3002/api/as/v1/api/as/v1/api/as/v1/engines/poc-research-doc/documents [status:200 request:0.081s]\n"
     ]
    },
    {
     "name": "stdout",
     "output_type": "stream",
     "text": [
      "현재 인덱싱 No.:16, ID : 20200054\n"
     ]
    }
   ],
   "source": [
    "#n_docs = 3\n",
    "for i in range(0, 17):\n",
    "    # 대상 ID\n",
    "    id = current_doc[\"results\"][i][\"id\"]\n",
    "    # content 필드\n",
    "    print(\"현재 대상 ID : {}\".format(id))\n",
    "    \n",
    "    txt_extract = current_doc[\"results\"][i][\"content\"]\n",
    "    \n",
    "    # 1) 주요 키워드 추가(빈출명사 10개 추출)\n",
    "    keywords = pjt02_lda_gensim.extract_keywords(id) # 리스트 형태 반환\n",
    "\n",
    "    keywords = \"|\".join(keywords) # 스트링 형태로 합침\n",
    "\n",
    "    if len(txt_extract) != 0:\n",
    "        target = {\n",
    "                'id' : id, #과제번호\n",
    "                'topic1': keywords\n",
    "                }\n",
    "\n",
    "        # 엘라스틱 인덱싱 생성(index_document), 업데이트(put_document)\n",
    "        app_search.put_documents(engine_name=engine_name, documents=target)\n",
    "        print(\"현재 인덱싱 No.:{}, ID : {}\".format(i, id))\n",
    "    else:\n",
    "        print(\"Abstract 추출 텍스트: None, 문서 ID : {}\".format(id))\n"
   ]
  },
  {
   "cell_type": "code",
   "execution_count": 14,
   "metadata": {},
   "outputs": [],
   "source": [
    "def text_extract(file_path, file):\n",
    "    # 확장자에 따라 텍스트 추출 모듈 선정            \n",
    "    if file.endswith(\".docx\"):  ## Validation 완료 ##\n",
    "        txt_extract = docx2txt.process(file_path)\n",
    "    elif file.endswith(\".doc\"):   ## Validation 완료 ##\n",
    "        txt_extract = textract.process(file_path, encoding='utf-8')\n",
    "        txt_extract = txt_extract.decode('utf-8')  # converts from bytestring to string\n",
    "    elif file.endswith(\".pdf\"):  ## Validation 완료 ##\n",
    "        txt_extract = extract_text(file_path) \n",
    "    elif file.endswith(\".pptx\"):  ## Validation 완료 ##\n",
    "        txt_extract = textract.process(file_path)  \n",
    "        txt_extract = txt_extract.decode('utf-8')   \n",
    "    elif file.endswith(\".ppt\"):  \n",
    "        parsed = parser.from_file(file_path)\n",
    "        #print(parsed[\"metadata\"]) #To get the meta data of the file\n",
    "        #print(parsed[\"content\"]) # To get the content of the file    \n",
    "        txt_extract = parsed[\"content\"]     \n",
    "    else:\n",
    "        txt_extract ='None'\n",
    "    \n",
    "    # 추출 텍스트 사전확인\n",
    "    print(\"Extracted text is ={} \".format(txt_extract[:50]))        \n",
    "    \n",
    "    # 전처리 : 줄바꿈 제거(시작/끝 모두)\n",
    "    txt_extract = str(txt_extract).replace(\"\\n\", \" \").replace(\"\\r\", \"\")\n",
    "    \n",
    "    return txt_extract"
   ]
  },
  {
   "cell_type": "code",
   "execution_count": 124,
   "metadata": {},
   "outputs": [
    {
     "name": "stdout",
     "output_type": "stream",
     "text": [
      "Extracted text is =EPCM플랫폼 운영을 위한 AWP 체계 및 기반기술 개발\n",
      "\n",
      "EPCM플랫폼 운영을 위한 AW \n"
     ]
    }
   ],
   "source": [
    "path = r'D:\\Workspace\\5. 기술기획\\17. DT\\02. 기술관리시스템 DB활용성\\01. 데이터 수집\\20년\\20180107_플랜트 EPCM 시스템 운영을 위한 AWP체계 및 기반 기술 개발.docx'\n",
    "file = r'20180107_플랜트 EPCM 시스템 운영을 위한 AWP체계 및 기반 기술 개발.docx'\n",
    "textstr = text_extract(path, file)\n",
    "id = 20190007"
   ]
  },
  {
   "cell_type": "code",
   "execution_count": null,
   "metadata": {},
   "outputs": [],
   "source": []
  },
  {
   "cell_type": "code",
   "execution_count": 125,
   "metadata": {},
   "outputs": [],
   "source": [
    "# 엘라스틱 데이터 길이 limitation 적용\n",
    "textstr = (textstr[:40000] + '.....')"
   ]
  },
  {
   "cell_type": "code",
   "execution_count": 126,
   "metadata": {},
   "outputs": [
    {
     "name": "stderr",
     "output_type": "stream",
     "text": [
      "2022-07-28 14:25:50,663 : INFO : PATCH http://203.245.157.104:3002/api/as/v1/api/as/v1/api/as/v1/engines/poc-research-doc/documents [status:200 request:0.367s]\n"
     ]
    },
    {
     "name": "stdout",
     "output_type": "stream",
     "text": [
      "현재 인덱싱 ID : 20180107\n"
     ]
    }
   ],
   "source": [
    "target = {\n",
    "                'id' : id, #과제번호\n",
    "                'content': textstr\n",
    "                }\n",
    "app_search.put_documents(engine_name=engine_name, documents=target)\n",
    "print(\"현재 인덱싱 ID : {}\".format(id))"
   ]
  },
  {
   "cell_type": "code",
   "execution_count": null,
   "metadata": {},
   "outputs": [],
   "source": []
  }
 ],
 "metadata": {
  "kernelspec": {
   "display_name": "Python 3.7.3 ('base')",
   "language": "python",
   "name": "python3"
  },
  "language_info": {
   "codemirror_mode": {
    "name": "ipython",
    "version": 3
   },
   "file_extension": ".py",
   "mimetype": "text/x-python",
   "name": "python",
   "nbconvert_exporter": "python",
   "pygments_lexer": "ipython3",
   "version": "3.7.3"
  },
  "orig_nbformat": 4,
  "vscode": {
   "interpreter": {
    "hash": "ad2bdc8ecc057115af97d19610ffacc2b4e99fae6737bb82f5d7fb13d2f2c186"
   }
  }
 },
 "nbformat": 4,
 "nbformat_minor": 2
}
